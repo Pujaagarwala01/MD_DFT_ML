{
 "cells": [
  {
   "cell_type": "code",
   "execution_count": 8,
   "metadata": {
    "scrolled": false
   },
   "outputs": [
    {
     "data": {
      "text/html": [
       "<div>\n",
       "<style scoped>\n",
       "    .dataframe tbody tr th:only-of-type {\n",
       "        vertical-align: middle;\n",
       "    }\n",
       "\n",
       "    .dataframe tbody tr th {\n",
       "        vertical-align: top;\n",
       "    }\n",
       "\n",
       "    .dataframe thead th {\n",
       "        text-align: right;\n",
       "    }\n",
       "</style>\n",
       "<table border=\"1\" class=\"dataframe\">\n",
       "  <thead>\n",
       "    <tr style=\"text-align: right;\">\n",
       "      <th></th>\n",
       "      <th>t</th>\n",
       "      <th>c1c1</th>\n",
       "      <th>c2c2</th>\n",
       "      <th>c1c2</th>\n",
       "      <th>c2c1</th>\n",
       "      <th>acosa1</th>\n",
       "      <th>acosa2</th>\n",
       "      <th>acosi1</th>\n",
       "      <th>acosi2</th>\n",
       "      <th>x</th>\n",
       "      <th>y</th>\n",
       "      <th>z</th>\n",
       "      <th>d</th>\n",
       "      <th>sd</th>\n",
       "      <th>acroll</th>\n",
       "      <th>acpitch</th>\n",
       "      <th>acyaw</th>\n",
       "      <th>acringang</th>\n",
       "    </tr>\n",
       "  </thead>\n",
       "  <tbody>\n",
       "    <tr>\n",
       "      <th>0</th>\n",
       "      <td>0.030207</td>\n",
       "      <td>0.371835</td>\n",
       "      <td>0.478303</td>\n",
       "      <td>0.408115</td>\n",
       "      <td>0.417668</td>\n",
       "      <td>0.404047</td>\n",
       "      <td>0.382568</td>\n",
       "      <td>0.853239</td>\n",
       "      <td>0.540140</td>\n",
       "      <td>0.315816</td>\n",
       "      <td>0.265199</td>\n",
       "      <td>0.092088</td>\n",
       "      <td>0.422553</td>\n",
       "      <td>0.587763</td>\n",
       "      <td>0.929411</td>\n",
       "      <td>0.987546</td>\n",
       "      <td>0.410902</td>\n",
       "      <td>0.917848</td>\n",
       "    </tr>\n",
       "    <tr>\n",
       "      <th>1</th>\n",
       "      <td>0.016725</td>\n",
       "      <td>0.476841</td>\n",
       "      <td>0.613318</td>\n",
       "      <td>0.531906</td>\n",
       "      <td>0.592959</td>\n",
       "      <td>0.343564</td>\n",
       "      <td>0.366966</td>\n",
       "      <td>0.707874</td>\n",
       "      <td>0.124368</td>\n",
       "      <td>0.306837</td>\n",
       "      <td>0.353256</td>\n",
       "      <td>-0.303205</td>\n",
       "      <td>0.557559</td>\n",
       "      <td>0.658232</td>\n",
       "      <td>0.995737</td>\n",
       "      <td>0.950273</td>\n",
       "      <td>0.366427</td>\n",
       "      <td>0.946237</td>\n",
       "    </tr>\n",
       "    <tr>\n",
       "      <th>2</th>\n",
       "      <td>0.001747</td>\n",
       "      <td>0.625174</td>\n",
       "      <td>0.668335</td>\n",
       "      <td>0.663929</td>\n",
       "      <td>0.666180</td>\n",
       "      <td>0.178385</td>\n",
       "      <td>0.072504</td>\n",
       "      <td>0.284772</td>\n",
       "      <td>0.569730</td>\n",
       "      <td>-0.435687</td>\n",
       "      <td>0.030655</td>\n",
       "      <td>0.410835</td>\n",
       "      <td>0.599623</td>\n",
       "      <td>0.464587</td>\n",
       "      <td>0.360882</td>\n",
       "      <td>0.745381</td>\n",
       "      <td>0.069817</td>\n",
       "      <td>0.268912</td>\n",
       "    </tr>\n",
       "    <tr>\n",
       "      <th>3</th>\n",
       "      <td>0.012650</td>\n",
       "      <td>0.465637</td>\n",
       "      <td>0.577282</td>\n",
       "      <td>0.513328</td>\n",
       "      <td>0.491654</td>\n",
       "      <td>0.980221</td>\n",
       "      <td>0.122406</td>\n",
       "      <td>0.722023</td>\n",
       "      <td>0.634057</td>\n",
       "      <td>-0.341357</td>\n",
       "      <td>0.381082</td>\n",
       "      <td>0.033992</td>\n",
       "      <td>0.512741</td>\n",
       "      <td>0.600254</td>\n",
       "      <td>0.962652</td>\n",
       "      <td>0.945280</td>\n",
       "      <td>0.657784</td>\n",
       "      <td>0.909952</td>\n",
       "    </tr>\n",
       "    <tr>\n",
       "      <th>4</th>\n",
       "      <td>0.001109</td>\n",
       "      <td>0.578552</td>\n",
       "      <td>0.660545</td>\n",
       "      <td>0.652282</td>\n",
       "      <td>0.580356</td>\n",
       "      <td>0.762210</td>\n",
       "      <td>0.414371</td>\n",
       "      <td>0.502441</td>\n",
       "      <td>0.472155</td>\n",
       "      <td>-0.055687</td>\n",
       "      <td>0.052812</td>\n",
       "      <td>0.546471</td>\n",
       "      <td>0.551834</td>\n",
       "      <td>0.370502</td>\n",
       "      <td>0.869028</td>\n",
       "      <td>0.687277</td>\n",
       "      <td>0.270780</td>\n",
       "      <td>0.597293</td>\n",
       "    </tr>\n",
       "    <tr>\n",
       "      <th>5</th>\n",
       "      <td>0.017942</td>\n",
       "      <td>0.520825</td>\n",
       "      <td>0.566766</td>\n",
       "      <td>0.563011</td>\n",
       "      <td>0.572316</td>\n",
       "      <td>0.745761</td>\n",
       "      <td>0.207339</td>\n",
       "      <td>0.068650</td>\n",
       "      <td>0.501058</td>\n",
       "      <td>-0.146347</td>\n",
       "      <td>0.361314</td>\n",
       "      <td>-0.311960</td>\n",
       "      <td>0.499284</td>\n",
       "      <td>0.415531</td>\n",
       "      <td>0.800175</td>\n",
       "      <td>0.876501</td>\n",
       "      <td>0.512002</td>\n",
       "      <td>0.701401</td>\n",
       "    </tr>\n",
       "    <tr>\n",
       "      <th>6</th>\n",
       "      <td>0.002764</td>\n",
       "      <td>0.595826</td>\n",
       "      <td>0.716593</td>\n",
       "      <td>0.639616</td>\n",
       "      <td>0.661317</td>\n",
       "      <td>0.308642</td>\n",
       "      <td>0.683910</td>\n",
       "      <td>0.296077</td>\n",
       "      <td>0.344641</td>\n",
       "      <td>0.323734</td>\n",
       "      <td>0.147381</td>\n",
       "      <td>0.474369</td>\n",
       "      <td>0.592917</td>\n",
       "      <td>0.459615</td>\n",
       "      <td>0.678015</td>\n",
       "      <td>0.632370</td>\n",
       "      <td>0.851555</td>\n",
       "      <td>0.428767</td>\n",
       "    </tr>\n",
       "    <tr>\n",
       "      <th>7</th>\n",
       "      <td>0.002805</td>\n",
       "      <td>0.475057</td>\n",
       "      <td>0.609164</td>\n",
       "      <td>0.538684</td>\n",
       "      <td>0.483178</td>\n",
       "      <td>0.916673</td>\n",
       "      <td>0.790753</td>\n",
       "      <td>0.547673</td>\n",
       "      <td>0.167686</td>\n",
       "      <td>-0.176163</td>\n",
       "      <td>-0.491576</td>\n",
       "      <td>0.007632</td>\n",
       "      <td>0.522244</td>\n",
       "      <td>0.655175</td>\n",
       "      <td>0.954786</td>\n",
       "      <td>0.848189</td>\n",
       "      <td>0.990473</td>\n",
       "      <td>0.809814</td>\n",
       "    </tr>\n",
       "    <tr>\n",
       "      <th>8</th>\n",
       "      <td>0.004368</td>\n",
       "      <td>0.542276</td>\n",
       "      <td>0.660312</td>\n",
       "      <td>0.559183</td>\n",
       "      <td>0.601223</td>\n",
       "      <td>0.197583</td>\n",
       "      <td>0.317935</td>\n",
       "      <td>0.588526</td>\n",
       "      <td>0.628706</td>\n",
       "      <td>0.016692</td>\n",
       "      <td>0.057806</td>\n",
       "      <td>0.548575</td>\n",
       "      <td>0.551864</td>\n",
       "      <td>0.515407</td>\n",
       "      <td>0.848841</td>\n",
       "      <td>0.518124</td>\n",
       "      <td>0.329632</td>\n",
       "      <td>0.439799</td>\n",
       "    </tr>\n",
       "    <tr>\n",
       "      <th>9</th>\n",
       "      <td>0.000429</td>\n",
       "      <td>0.577266</td>\n",
       "      <td>0.667124</td>\n",
       "      <td>0.593877</td>\n",
       "      <td>0.588677</td>\n",
       "      <td>0.167507</td>\n",
       "      <td>0.217116</td>\n",
       "      <td>0.390888</td>\n",
       "      <td>0.081854</td>\n",
       "      <td>-0.299375</td>\n",
       "      <td>-0.333098</td>\n",
       "      <td>0.355883</td>\n",
       "      <td>0.572042</td>\n",
       "      <td>0.520830</td>\n",
       "      <td>0.996782</td>\n",
       "      <td>0.425185</td>\n",
       "      <td>0.995175</td>\n",
       "      <td>0.423923</td>\n",
       "    </tr>\n",
       "  </tbody>\n",
       "</table>\n",
       "</div>"
      ],
      "text/plain": [
       "          t      c1c1      c2c2      c1c2      c2c1    acosa1    acosa2  \\\n",
       "0  0.030207  0.371835  0.478303  0.408115  0.417668  0.404047  0.382568   \n",
       "1  0.016725  0.476841  0.613318  0.531906  0.592959  0.343564  0.366966   \n",
       "2  0.001747  0.625174  0.668335  0.663929  0.666180  0.178385  0.072504   \n",
       "3  0.012650  0.465637  0.577282  0.513328  0.491654  0.980221  0.122406   \n",
       "4  0.001109  0.578552  0.660545  0.652282  0.580356  0.762210  0.414371   \n",
       "5  0.017942  0.520825  0.566766  0.563011  0.572316  0.745761  0.207339   \n",
       "6  0.002764  0.595826  0.716593  0.639616  0.661317  0.308642  0.683910   \n",
       "7  0.002805  0.475057  0.609164  0.538684  0.483178  0.916673  0.790753   \n",
       "8  0.004368  0.542276  0.660312  0.559183  0.601223  0.197583  0.317935   \n",
       "9  0.000429  0.577266  0.667124  0.593877  0.588677  0.167507  0.217116   \n",
       "\n",
       "     acosi1    acosi2         x         y         z         d        sd  \\\n",
       "0  0.853239  0.540140  0.315816  0.265199  0.092088  0.422553  0.587763   \n",
       "1  0.707874  0.124368  0.306837  0.353256 -0.303205  0.557559  0.658232   \n",
       "2  0.284772  0.569730 -0.435687  0.030655  0.410835  0.599623  0.464587   \n",
       "3  0.722023  0.634057 -0.341357  0.381082  0.033992  0.512741  0.600254   \n",
       "4  0.502441  0.472155 -0.055687  0.052812  0.546471  0.551834  0.370502   \n",
       "5  0.068650  0.501058 -0.146347  0.361314 -0.311960  0.499284  0.415531   \n",
       "6  0.296077  0.344641  0.323734  0.147381  0.474369  0.592917  0.459615   \n",
       "7  0.547673  0.167686 -0.176163 -0.491576  0.007632  0.522244  0.655175   \n",
       "8  0.588526  0.628706  0.016692  0.057806  0.548575  0.551864  0.515407   \n",
       "9  0.390888  0.081854 -0.299375 -0.333098  0.355883  0.572042  0.520830   \n",
       "\n",
       "     acroll   acpitch     acyaw  acringang  \n",
       "0  0.929411  0.987546  0.410902   0.917848  \n",
       "1  0.995737  0.950273  0.366427   0.946237  \n",
       "2  0.360882  0.745381  0.069817   0.268912  \n",
       "3  0.962652  0.945280  0.657784   0.909952  \n",
       "4  0.869028  0.687277  0.270780   0.597293  \n",
       "5  0.800175  0.876501  0.512002   0.701401  \n",
       "6  0.678015  0.632370  0.851555   0.428767  \n",
       "7  0.954786  0.848189  0.990473   0.809814  \n",
       "8  0.848841  0.518124  0.329632   0.439799  \n",
       "9  0.996782  0.425185  0.995175   0.423923  "
      ]
     },
     "execution_count": 8,
     "metadata": {},
     "output_type": "execute_result"
    }
   ],
   "source": [
    "import pandas as pd\n",
    "import numpy as np\n",
    "import matplotlib.pyplot as plt\n",
    "alldata=pd.read_csv('includecrossdist_allparam_middlepair.txt',delimiter='\\t',names=['t','c1c1','c2c2','c1c2','c2c1','acosa1','acosa2','acosi1','acosi2','x','y','z','d','sd','acroll','acpitch','acyaw','acringang'])\n",
    "alldata.head(10)"
   ]
  },
  {
   "cell_type": "code",
   "execution_count": 9,
   "metadata": {},
   "outputs": [],
   "source": [
    "alldata=alldata[alldata['t']<=0.17]\n",
    "alldata=alldata[alldata['t']>0]"
   ]
  },
  {
   "cell_type": "code",
   "execution_count": 10,
   "metadata": {},
   "outputs": [],
   "source": [
    "inputdat=np.array(alldata[[\"c1c1\",\"c2c2\",\"c1c2\",\"c2c1\",\"acosa1\",\"acosa2\",\"acosi1\",\"acosi2\",\"x\",\"y\",\"z\",\"d\",\"sd\",\"acroll\",\"acpitch\",\"acyaw\",\"acringang\"]])\n",
    "outputdat=np.array(alldata[[\"t\"]]).ravel()"
   ]
  },
  {
   "cell_type": "code",
   "execution_count": 11,
   "metadata": {},
   "outputs": [],
   "source": [
    "from sklearn.model_selection import train_test_split\n",
    "outputdat=np.log10(outputdat)\n",
    "X_train, X_test, Y_train, Y_test = train_test_split(inputdat,outputdat,train_size=0.8,random_state=42)"
   ]
  },
  {
   "cell_type": "code",
   "execution_count": 12,
   "metadata": {
    "scrolled": false
   },
   "outputs": [
    {
     "name": "stdout",
     "output_type": "stream",
     "text": [
      "[0.56229004 0.13041705 0.0382433  0.04001682 0.01092856 0.01468891\n",
      " 0.0158628  0.01205823 0.01384714 0.01238517 0.0149939  0.0231865\n",
      " 0.027469   0.02021131 0.01353029 0.02624939 0.0236216 ]\n"
     ]
    },
    {
     "data": {
      "text/plain": [
       "<BarContainer object of 17 artists>"
      ]
     },
     "execution_count": 12,
     "metadata": {},
     "output_type": "execute_result"
    },
    {
     "data": {
      "image/png": "[encoded data removed]",
      "text/plain": [
       "<Figure size 432x288 with 1 Axes>"
      ]
     },
     "metadata": {
      "needs_background": "light"
     },
     "output_type": "display_data"
    }
   ],
   "source": [
    "#feature selection\n",
    "from sklearn.ensemble import RandomForestRegressor\n",
    "from sklearn.feature_selection import SelectFromModel\n",
    "\n",
    "clf=RandomForestRegressor()\n",
    "sel=clf.fit(X_train,Y_train)\n",
    "print(sel.feature_importances_)\n",
    "plt.bar(np.arange(1,18),sel.feature_importances_)"
   ]
  },
  {
   "cell_type": "code",
   "execution_count": 17,
   "metadata": {},
   "outputs": [],
   "source": [
    "#To identify How many parameters are enough"
   ]
  },
  {
   "cell_type": "code",
   "execution_count": 18,
   "metadata": {},
   "outputs": [
    {
     "name": "stdout",
     "output_type": "stream",
     "text": [
      "[ True False False False False False False False False False False False\n",
      " False False False False False]\n"
     ]
    }
   ],
   "source": [
    "#forward and backward selection process for one variable\n",
    "from sklearn.feature_selection import SequentialFeatureSelector\n",
    "from sklearn.ensemble import RandomForestRegressor\n",
    "\n",
    "sfs_forward = SequentialFeatureSelector(RandomForestRegressor(), n_features_to_select=1,\n",
    "                                        direction='forward').fit(X_train, Y_train)\n",
    "\n",
    "print(sfs_forward.get_support())"
   ]
  },
  {
   "cell_type": "code",
   "execution_count": 19,
   "metadata": {},
   "outputs": [
    {
     "name": "stdout",
     "output_type": "stream",
     "text": [
      "[ True  True False False False False False False False False False False\n",
      " False False False False False]\n"
     ]
    }
   ],
   "source": [
    "#forward and backward selection process for two variable\n",
    "from sklearn.feature_selection import SequentialFeatureSelector\n",
    "from sklearn.ensemble import RandomForestRegressor\n",
    "\n",
    "sfs_forward = SequentialFeatureSelector(RandomForestRegressor(), n_features_to_select=2,\n",
    "                                        direction='forward').fit(X_train, Y_train)\n",
    "\n",
    "print(sfs_forward.get_support())"
   ]
  },
  {
   "cell_type": "code",
   "execution_count": 20,
   "metadata": {},
   "outputs": [
    {
     "name": "stdout",
     "output_type": "stream",
     "text": [
      "[ True  True  True False False False False False False False False False\n",
      " False False False False False]\n"
     ]
    }
   ],
   "source": [
    "#forward and backward selection process for 3 variable\n",
    "from sklearn.feature_selection import SequentialFeatureSelector\n",
    "from sklearn.ensemble import RandomForestRegressor\n",
    "\n",
    "sfs_forward = SequentialFeatureSelector(RandomForestRegressor(), n_features_to_select=3,\n",
    "                                        direction='forward').fit(X_train, Y_train)\n",
    "\n",
    "print(sfs_forward.get_support())"
   ]
  },
  {
   "cell_type": "code",
   "execution_count": 21,
   "metadata": {},
   "outputs": [
    {
     "name": "stdout",
     "output_type": "stream",
     "text": [
      "[ True  True  True  True False False False False False False False False\n",
      " False False False False False]\n"
     ]
    }
   ],
   "source": [
    "#forward and backward selection process for 4 variable\n",
    "from sklearn.feature_selection import SequentialFeatureSelector\n",
    "from sklearn.ensemble import RandomForestRegressor\n",
    "\n",
    "sfs_forward = SequentialFeatureSelector(RandomForestRegressor(), n_features_to_select=4,\n",
    "                                        direction='forward').fit(X_train, Y_train)\n",
    "\n",
    "print(sfs_forward.get_support())"
   ]
  },
  {
   "cell_type": "code",
   "execution_count": 22,
   "metadata": {},
   "outputs": [
    {
     "name": "stdout",
     "output_type": "stream",
     "text": [
      "[ True  True  True  True False False False False False False False  True\n",
      " False False False False False]\n"
     ]
    }
   ],
   "source": [
    "#forward and backward selection process for 5 variable\n",
    "from sklearn.feature_selection import SequentialFeatureSelector\n",
    "from sklearn.ensemble import RandomForestRegressor\n",
    "\n",
    "sfs_forward = SequentialFeatureSelector(RandomForestRegressor(), n_features_to_select=5,\n",
    "                                        direction='forward').fit(X_train, Y_train)\n",
    "\n",
    "print(sfs_forward.get_support())"
   ]
  },
  {
   "cell_type": "code",
   "execution_count": 23,
   "metadata": {},
   "outputs": [
    {
     "name": "stdout",
     "output_type": "stream",
     "text": [
      "[ True  True  True  True False False False False False False False  True\n",
      " False False False False  True]\n"
     ]
    }
   ],
   "source": [
    "#forward and backward selection process for 6 variable\n",
    "from sklearn.feature_selection import SequentialFeatureSelector\n",
    "from sklearn.ensemble import RandomForestRegressor\n",
    "\n",
    "sfs_forward = SequentialFeatureSelector(RandomForestRegressor(), n_features_to_select=6,\n",
    "                                        direction='forward').fit(X_train, Y_train)\n",
    "\n",
    "print(sfs_forward.get_support())"
   ]
  },
  {
   "cell_type": "code",
   "execution_count": 24,
   "metadata": {},
   "outputs": [
    {
     "name": "stdout",
     "output_type": "stream",
     "text": [
      "[ True  True  True  True False False False False False False False  True\n",
      " False False False  True  True]\n"
     ]
    }
   ],
   "source": [
    "#forward and backward selection process for 7 variable\n",
    "from sklearn.feature_selection import SequentialFeatureSelector\n",
    "from sklearn.ensemble import RandomForestRegressor\n",
    "\n",
    "sfs_forward = SequentialFeatureSelector(RandomForestRegressor(), n_features_to_select=7,\n",
    "                                        direction='forward').fit(X_train, Y_train)\n",
    "\n",
    "print(sfs_forward.get_support())"
   ]
  },
  {
   "cell_type": "code",
   "execution_count": 25,
   "metadata": {},
   "outputs": [
    {
     "name": "stdout",
     "output_type": "stream",
     "text": [
      "0.5204315372717087\n",
      "0.29201183402421593\n",
      "0.3964842627450975\n",
      "0.5890862308845095\n",
      "0.36160894155956635\n",
      "0.6581960260279445\n",
      "0.33768684618483497\n",
      "0.7019239557028647\n",
      "0.3245889468783562\n",
      "0.7245985390159473\n",
      "0.31259779283554023\n",
      "0.7445707661997661\n",
      "0.3043878464924792\n",
      "0.7578115642155067\n"
     ]
    }
   ],
   "source": [
    "from sklearn.metrics import mean_squared_error, r2_score\n",
    "\n",
    "#Regression with only 1 parameter\n",
    "\n",
    "X_train1=X_train[:,[0]]\n",
    "X_test1=X_test[:,[0]]\n",
    "clf1=RandomForestRegressor()\n",
    "clf1=clf1.fit(X_train1,Y_train)\n",
    "Y_pred1=clf1.predict(X_test1)\n",
    "rmse1=np.sqrt(mean_squared_error(Y_test,Y_pred1))\n",
    "rsq1=r2_score(Y_test,Y_pred1)\n",
    "print(rmse1)\n",
    "print(rsq1)\n",
    "\n",
    "#Regression with only two parameter\n",
    "\n",
    "X_train2=X_train[:,[0,1]]\n",
    "X_test2=X_test[:,[0,1]]\n",
    "clf2=RandomForestRegressor()\n",
    "clf2=clf2.fit(X_train2,Y_train)\n",
    "Y_pred2=clf2.predict(X_test2)\n",
    "rmse2=np.sqrt(mean_squared_error(Y_test,Y_pred2))\n",
    "rsq2=r2_score(Y_test,Y_pred2)\n",
    "print(rmse2)\n",
    "print(rsq2)\n",
    "\n",
    "#Regression with only three parameter\n",
    "\n",
    "X_train3=X_train[:,[0,1,2]]\n",
    "X_test3=X_test[:,[0,1,2]]\n",
    "clf3=RandomForestRegressor()\n",
    "clf3=clf3.fit(X_train3,Y_train)\n",
    "Y_pred3=clf3.predict(X_test3)\n",
    "rmse3=np.sqrt(mean_squared_error(Y_test,Y_pred3))\n",
    "rsq3=r2_score(Y_test,Y_pred3)\n",
    "print(rmse3)\n",
    "print(rsq3)\n",
    "\n",
    "#Regression with only four parameter\n",
    "\n",
    "X_train4=X_train[:,[0,1,2,3]]\n",
    "X_test4=X_test[:,[0,1,2,3]]\n",
    "clf4=RandomForestRegressor()\n",
    "clf4=clf4.fit(X_train4,Y_train)\n",
    "Y_pred4=clf4.predict(X_test4)\n",
    "rmse4=np.sqrt(mean_squared_error(Y_test,Y_pred4))\n",
    "rsq4=r2_score(Y_test,Y_pred4)\n",
    "print(rmse4)\n",
    "print(rsq4)\n",
    "\n",
    "#Regression with only five parameter\n",
    "\n",
    "X_train5=X_train[:,[0,1,2,3,11]]\n",
    "X_test5=X_test[:,[0,1,2,3,11]]\n",
    "clf5=RandomForestRegressor()\n",
    "clf5=clf5.fit(X_train5,Y_train)\n",
    "Y_pred5=clf5.predict(X_test5)\n",
    "rmse5=np.sqrt(mean_squared_error(Y_test,Y_pred5))\n",
    "rsq5=r2_score(Y_test,Y_pred5)\n",
    "print(rmse5)\n",
    "print(rsq5)\n",
    "\n",
    "#Regression with only six parameter\n",
    "\n",
    "X_train6=X_train[:,[0,1,2,3,11,16]]\n",
    "X_test6=X_test[:,[0,1,2,3,11,16]]\n",
    "clf6=RandomForestRegressor()\n",
    "clf6=clf6.fit(X_train6,Y_train)\n",
    "Y_pred6=clf6.predict(X_test6)\n",
    "rmse6=np.sqrt(mean_squared_error(Y_test,Y_pred6))\n",
    "rsq6=r2_score(Y_test,Y_pred6)\n",
    "print(rmse6)\n",
    "print(rsq6)\n",
    "\n",
    "#Regression with only seven parameter\n",
    "\n",
    "X_train7=X_train[:,[0,1,11,15,3,2,16]]\n",
    "X_test7=X_test[:,[0,1,11,15,3,2,16]]\n",
    "clf7=RandomForestRegressor()\n",
    "clf7=clf7.fit(X_train7,Y_train)\n",
    "Y_pred7=clf7.predict(X_test7)\n",
    "rmse7=np.sqrt(mean_squared_error(Y_test,Y_pred7))\n",
    "rsq7=r2_score(Y_test,Y_pred7)\n",
    "print(rmse7)\n",
    "print(rsq7)"
   ]
  },
  {
   "cell_type": "code",
   "execution_count": 26,
   "metadata": {
    "scrolled": true
   },
   "outputs": [
    {
     "data": {
      "text/plain": [
       "<matplotlib.collections.PathCollection at 0x7fe64a8191c0>"
      ]
     },
     "execution_count": 26,
     "metadata": {},
     "output_type": "execute_result"
    },
    {
     "data": {
      "image/png": "[encoded data removed]",
      "text/plain": [
       "<Figure size 432x288 with 1 Axes>"
      ]
     },
     "metadata": {
      "needs_background": "light"
     },
     "output_type": "display_data"
    }
   ],
   "source": [
    "plt.scatter(np.arange(1,8),[rmse1,rmse2,rmse3,rmse4,rmse5,rmse6,rmse7])"
   ]
  },
  {
   "cell_type": "code",
   "execution_count": 27,
   "metadata": {},
   "outputs": [
    {
     "data": {
      "text/plain": [
       "<matplotlib.collections.PathCollection at 0x7fe6591e6fa0>"
      ]
     },
     "execution_count": 27,
     "metadata": {},
     "output_type": "execute_result"
    },
    {
     "data": {
      "image/png": "[encoded data removed]",
      "text/plain": [
       "<Figure size 432x288 with 1 Axes>"
      ]
     },
     "metadata": {
      "needs_background": "light"
     },
     "output_type": "display_data"
    }
   ],
   "source": [
    "plt.scatter(np.arange(1,8),[rsq1,rsq2,rsq3,rsq4,rsq5,rsq6,rsq7])"
   ]
  },
  {
   "cell_type": "code",
   "execution_count": null,
   "metadata": {},
   "outputs": [],
   "source": []
  }
 ],
 "metadata": {
  "@webio": {
   "lastCommId": null,
   "lastKernelId": null
  },
  "kernelspec": {
   "display_name": "Python 3 (ipykernel)",
   "language": "python",
   "name": "python3"
  },
  "language_info": {
   "codemirror_mode": {
    "name": "ipython",
    "version": 3
   },
   "file_extension": ".py",
   "mimetype": "text/x-python",
   "name": "python",
   "nbconvert_exporter": "python",
   "pygments_lexer": "ipython3",
   "version": "3.9.7"
  }
 },
 "nbformat": 4,
 "nbformat_minor": 4
}
